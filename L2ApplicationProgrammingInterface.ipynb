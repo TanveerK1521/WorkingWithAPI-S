{
 "cells": [
  {
   "cell_type": "markdown",
   "id": "d08dc649-6ea8-4a19-935d-43edeb5b709a",
   "metadata": {},
   "source": [
    "WHAT IS AN API? Basically API lets two softwares talk to each other. No need to know how API works, just need to know its inputs and outputs"
   ]
  },
  {
   "cell_type": "code",
   "execution_count": 21,
   "id": "b2f8ad4e-9e47-4240-a9a1-36d04ab1ac88",
   "metadata": {},
   "outputs": [
    {
     "data": {
      "text/plain": [
       "pandas.core.frame.DataFrame"
      ]
     },
     "execution_count": 21,
     "metadata": {},
     "output_type": "execute_result"
    }
   ],
   "source": [
    "# PANDAS IS AN API... BUT HOW? Lets see.\n",
    "\n",
    "import pandas as pd\n",
    "import matplotlib.pyplot as plt\n",
    "\n",
    "#creating a dictionary\n",
    "dict_ = {'a':[11,21,31],'b':[12,22,32]}\n",
    "\n",
    "#when we create pandas object with dataframe constructor, in API lingo its an instance. The data in Dictionary is passed along to pandas API.\n",
    "#then we use dataframe to communicate with API(perform operations such as head(), mean())\n",
    "df=pd.DataFrame(dict_)\n",
    "type(df)"
   ]
  },
  {
   "cell_type": "markdown",
   "id": "a2a97544-c9b1-49e2-a876-750586ac8b74",
   "metadata": {},
   "source": [
    "REST API'S (Representational state transfer API )  \n",
    "Rest Api function by sending request, the request is communicated with Http message. The Http message contains JSON file. The JSON file contains instructions for what operation we would like the service or resource to perform. In similar manner API returns with a response, VIA an http message, usually contained with a JSON.  \n",
    "Furthermore, in the notebook we will be studying NBI API  \n",
    "It is quiet simple to use nba_api to make request for a specific team. We do not need a JSON file, all we need is an ID. The information is stored locally in the API.\n"
   ]
  },
  {
   "cell_type": "code",
   "execution_count": 5,
   "id": "b0e4fe7b-0b33-46c3-886c-1e94132536bc",
   "metadata": {},
   "outputs": [],
   "source": [
    "# ! pip install nba_api\n",
    "from nba_api.stats.static import teams\n",
    "import matplotlib as plt"
   ]
  },
  {
   "cell_type": "code",
   "execution_count": 6,
   "id": "cf8aa9fc-f0c2-4d93-9109-ed594b1a7ba8",
   "metadata": {},
   "outputs": [],
   "source": [
    "def one_dict(list_dict):\n",
    "    keys=list_dict[0].keys()\n",
    "    out_dict={key:[] for key in keys}\n",
    "    for dict_ in list_dict:\n",
    "        for key, value in dict_.items():\n",
    "            out_dict[key].append(value)\n",
    "    return out_dict\n",
    "    "
   ]
  },
  {
   "cell_type": "code",
   "execution_count": 7,
   "id": "56858628-7158-4ab0-9fec-5da3aacc1c81",
   "metadata": {},
   "outputs": [],
   "source": [
    "# the get_teams method returns a list of dictionaries\n",
    "nba_teams = teams.get_teams()"
   ]
  },
  {
   "cell_type": "code",
   "execution_count": 8,
   "id": "fc97ce32-5998-457d-be34-080720fad279",
   "metadata": {},
   "outputs": [
    {
     "data": {
      "text/plain": [
       "[{'id': 1610612737,\n",
       "  'full_name': 'Atlanta Hawks',\n",
       "  'abbreviation': 'ATL',\n",
       "  'nickname': 'Hawks',\n",
       "  'city': 'Atlanta',\n",
       "  'state': 'Georgia',\n",
       "  'year_founded': 1949},\n",
       " {'id': 1610612738,\n",
       "  'full_name': 'Boston Celtics',\n",
       "  'abbreviation': 'BOS',\n",
       "  'nickname': 'Celtics',\n",
       "  'city': 'Boston',\n",
       "  'state': 'Massachusetts',\n",
       "  'year_founded': 1946},\n",
       " {'id': 1610612739,\n",
       "  'full_name': 'Cleveland Cavaliers',\n",
       "  'abbreviation': 'CLE',\n",
       "  'nickname': 'Cavaliers',\n",
       "  'city': 'Cleveland',\n",
       "  'state': 'Ohio',\n",
       "  'year_founded': 1970}]"
      ]
     },
     "execution_count": 8,
     "metadata": {},
     "output_type": "execute_result"
    }
   ],
   "source": [
    "nba_teams[0:3]"
   ]
  },
  {
   "cell_type": "code",
   "execution_count": 9,
   "id": "2de254dc-b8da-4d47-9ab5-2d4598296cd0",
   "metadata": {},
   "outputs": [
    {
     "data": {
      "text/html": [
       "<div>\n",
       "<style scoped>\n",
       "    .dataframe tbody tr th:only-of-type {\n",
       "        vertical-align: middle;\n",
       "    }\n",
       "\n",
       "    .dataframe tbody tr th {\n",
       "        vertical-align: top;\n",
       "    }\n",
       "\n",
       "    .dataframe thead th {\n",
       "        text-align: right;\n",
       "    }\n",
       "</style>\n",
       "<table border=\"1\" class=\"dataframe\">\n",
       "  <thead>\n",
       "    <tr style=\"text-align: right;\">\n",
       "      <th></th>\n",
       "      <th>id</th>\n",
       "      <th>full_name</th>\n",
       "      <th>abbreviation</th>\n",
       "      <th>nickname</th>\n",
       "      <th>city</th>\n",
       "      <th>state</th>\n",
       "      <th>year_founded</th>\n",
       "    </tr>\n",
       "  </thead>\n",
       "  <tbody>\n",
       "    <tr>\n",
       "      <th>0</th>\n",
       "      <td>1610612737</td>\n",
       "      <td>Atlanta Hawks</td>\n",
       "      <td>ATL</td>\n",
       "      <td>Hawks</td>\n",
       "      <td>Atlanta</td>\n",
       "      <td>Georgia</td>\n",
       "      <td>1949</td>\n",
       "    </tr>\n",
       "    <tr>\n",
       "      <th>1</th>\n",
       "      <td>1610612738</td>\n",
       "      <td>Boston Celtics</td>\n",
       "      <td>BOS</td>\n",
       "      <td>Celtics</td>\n",
       "      <td>Boston</td>\n",
       "      <td>Massachusetts</td>\n",
       "      <td>1946</td>\n",
       "    </tr>\n",
       "    <tr>\n",
       "      <th>2</th>\n",
       "      <td>1610612739</td>\n",
       "      <td>Cleveland Cavaliers</td>\n",
       "      <td>CLE</td>\n",
       "      <td>Cavaliers</td>\n",
       "      <td>Cleveland</td>\n",
       "      <td>Ohio</td>\n",
       "      <td>1970</td>\n",
       "    </tr>\n",
       "    <tr>\n",
       "      <th>3</th>\n",
       "      <td>1610612740</td>\n",
       "      <td>New Orleans Pelicans</td>\n",
       "      <td>NOP</td>\n",
       "      <td>Pelicans</td>\n",
       "      <td>New Orleans</td>\n",
       "      <td>Louisiana</td>\n",
       "      <td>2002</td>\n",
       "    </tr>\n",
       "    <tr>\n",
       "      <th>4</th>\n",
       "      <td>1610612741</td>\n",
       "      <td>Chicago Bulls</td>\n",
       "      <td>CHI</td>\n",
       "      <td>Bulls</td>\n",
       "      <td>Chicago</td>\n",
       "      <td>Illinois</td>\n",
       "      <td>1966</td>\n",
       "    </tr>\n",
       "  </tbody>\n",
       "</table>\n",
       "</div>"
      ],
      "text/plain": [
       "           id             full_name abbreviation   nickname         city  \\\n",
       "0  1610612737         Atlanta Hawks          ATL      Hawks      Atlanta   \n",
       "1  1610612738        Boston Celtics          BOS    Celtics       Boston   \n",
       "2  1610612739   Cleveland Cavaliers          CLE  Cavaliers    Cleveland   \n",
       "3  1610612740  New Orleans Pelicans          NOP   Pelicans  New Orleans   \n",
       "4  1610612741         Chicago Bulls          CHI      Bulls      Chicago   \n",
       "\n",
       "           state  year_founded  \n",
       "0        Georgia          1949  \n",
       "1  Massachusetts          1946  \n",
       "2           Ohio          1970  \n",
       "3      Louisiana          2002  \n",
       "4       Illinois          1966  "
      ]
     },
     "execution_count": 9,
     "metadata": {},
     "output_type": "execute_result"
    }
   ],
   "source": [
    "# To make things easier we can convert dictionary into table\n",
    "# First we use function one_dict to create a dictionary\n",
    "\n",
    "dict_nba_team = one_dict(nba_teams)\n",
    "df_teams = pd.DataFrame(dict_nba_team)\n",
    "df_teams.head()"
   ]
  },
  {
   "cell_type": "code",
   "execution_count": 10,
   "id": "de70c05c-1c55-450c-a2ad-2da498f82c70",
   "metadata": {},
   "outputs": [
    {
     "data": {
      "text/html": [
       "<div>\n",
       "<style scoped>\n",
       "    .dataframe tbody tr th:only-of-type {\n",
       "        vertical-align: middle;\n",
       "    }\n",
       "\n",
       "    .dataframe tbody tr th {\n",
       "        vertical-align: top;\n",
       "    }\n",
       "\n",
       "    .dataframe thead th {\n",
       "        text-align: right;\n",
       "    }\n",
       "</style>\n",
       "<table border=\"1\" class=\"dataframe\">\n",
       "  <thead>\n",
       "    <tr style=\"text-align: right;\">\n",
       "      <th></th>\n",
       "      <th>id</th>\n",
       "      <th>full_name</th>\n",
       "      <th>abbreviation</th>\n",
       "      <th>nickname</th>\n",
       "      <th>city</th>\n",
       "      <th>state</th>\n",
       "      <th>year_founded</th>\n",
       "    </tr>\n",
       "  </thead>\n",
       "  <tbody>\n",
       "    <tr>\n",
       "      <th>7</th>\n",
       "      <td>1610612744</td>\n",
       "      <td>Golden State Warriors</td>\n",
       "      <td>GSW</td>\n",
       "      <td>Warriors</td>\n",
       "      <td>Golden State</td>\n",
       "      <td>California</td>\n",
       "      <td>1946</td>\n",
       "    </tr>\n",
       "  </tbody>\n",
       "</table>\n",
       "</div>"
      ],
      "text/plain": [
       "           id              full_name abbreviation  nickname          city  \\\n",
       "7  1610612744  Golden State Warriors          GSW  Warriors  Golden State   \n",
       "\n",
       "        state  year_founded  \n",
       "7  California          1946  "
      ]
     },
     "execution_count": 10,
     "metadata": {},
     "output_type": "execute_result"
    }
   ],
   "source": [
    "# We will use teams nick name to find the unique ID, we can see the row that contains info about the warriors are follows\n",
    "df_warriors = df_teams[df_teams['nickname']== 'Warriors']\n",
    "df_warriors"
   ]
  },
  {
   "cell_type": "code",
   "execution_count": 11,
   "id": "a6c8c907-8ac5-4710-a8a9-c686ad0833d4",
   "metadata": {},
   "outputs": [
    {
     "data": {
      "text/plain": [
       "1610612744"
      ]
     },
     "execution_count": 11,
     "metadata": {},
     "output_type": "execute_result"
    }
   ],
   "source": [
    "# use the following line of code to access the first column\n",
    "id_warriors = df_warriors[['id']].values[0][0]\n",
    "id_warriors"
   ]
  },
  {
   "cell_type": "code",
   "execution_count": 12,
   "id": "4a16d208-7509-42fb-9175-9359e3cde678",
   "metadata": {},
   "outputs": [],
   "source": [
    "# The function leaguegamefinder will make an API call  in its module stats.endpoints\n",
    "\n",
    "from nba_api.stats.endpoints import leaguegamefinder"
   ]
  },
  {
   "cell_type": "code",
   "execution_count": 15,
   "id": "2ec86882-f536-430a-a4c0-924bbd604bbe",
   "metadata": {},
   "outputs": [],
   "source": [
    "# We can download the dataframe from API call for golden state warriors\n",
    "\n",
    "import requests\n",
    "\n",
    "filename = \"https://s3-api.us-geo.objectstorage.softlayer.net/cf-courses-data/CognitiveClass/PY0101EN/Chapter%205/Labs/Golden_State.pkl\"\n",
    "\n",
    "def download(url, filename):\n",
    "    response = requests.get(url)\n",
    "    if response.status_code == 200:\n",
    "        with open(filename, \"wb\") as f:\n",
    "            f.write(response.content)\n",
    "\n",
    "download(filename, \"Golden_State.pkl\")"
   ]
  },
  {
   "cell_type": "code",
   "execution_count": 16,
   "id": "0d5b1a6d-929e-465c-b4b4-35d1741da86e",
   "metadata": {},
   "outputs": [
    {
     "data": {
      "text/html": [
       "<div>\n",
       "<style scoped>\n",
       "    .dataframe tbody tr th:only-of-type {\n",
       "        vertical-align: middle;\n",
       "    }\n",
       "\n",
       "    .dataframe tbody tr th {\n",
       "        vertical-align: top;\n",
       "    }\n",
       "\n",
       "    .dataframe thead th {\n",
       "        text-align: right;\n",
       "    }\n",
       "</style>\n",
       "<table border=\"1\" class=\"dataframe\">\n",
       "  <thead>\n",
       "    <tr style=\"text-align: right;\">\n",
       "      <th></th>\n",
       "      <th>SEASON_ID</th>\n",
       "      <th>TEAM_ID</th>\n",
       "      <th>TEAM_ABBREVIATION</th>\n",
       "      <th>TEAM_NAME</th>\n",
       "      <th>GAME_ID</th>\n",
       "      <th>GAME_DATE</th>\n",
       "      <th>MATCHUP</th>\n",
       "      <th>WL</th>\n",
       "      <th>MIN</th>\n",
       "      <th>PTS</th>\n",
       "      <th>...</th>\n",
       "      <th>FT_PCT</th>\n",
       "      <th>OREB</th>\n",
       "      <th>DREB</th>\n",
       "      <th>REB</th>\n",
       "      <th>AST</th>\n",
       "      <th>STL</th>\n",
       "      <th>BLK</th>\n",
       "      <th>TOV</th>\n",
       "      <th>PF</th>\n",
       "      <th>PLUS_MINUS</th>\n",
       "    </tr>\n",
       "  </thead>\n",
       "  <tbody>\n",
       "    <tr>\n",
       "      <th>0</th>\n",
       "      <td>22019</td>\n",
       "      <td>1610612744</td>\n",
       "      <td>GSW</td>\n",
       "      <td>Golden State Warriors</td>\n",
       "      <td>1521900066</td>\n",
       "      <td>2019-07-12</td>\n",
       "      <td>GSW vs. LAL</td>\n",
       "      <td>L</td>\n",
       "      <td>200</td>\n",
       "      <td>87</td>\n",
       "      <td>...</td>\n",
       "      <td>0.800</td>\n",
       "      <td>13.0</td>\n",
       "      <td>29.0</td>\n",
       "      <td>42.0</td>\n",
       "      <td>13</td>\n",
       "      <td>10.0</td>\n",
       "      <td>3</td>\n",
       "      <td>11.0</td>\n",
       "      <td>21</td>\n",
       "      <td>3.2</td>\n",
       "    </tr>\n",
       "    <tr>\n",
       "      <th>1</th>\n",
       "      <td>22019</td>\n",
       "      <td>1610612744</td>\n",
       "      <td>GSW</td>\n",
       "      <td>Golden State Warriors</td>\n",
       "      <td>1521900058</td>\n",
       "      <td>2019-07-10</td>\n",
       "      <td>GSW @ DEN</td>\n",
       "      <td>W</td>\n",
       "      <td>201</td>\n",
       "      <td>73</td>\n",
       "      <td>...</td>\n",
       "      <td>0.867</td>\n",
       "      <td>7.0</td>\n",
       "      <td>27.0</td>\n",
       "      <td>34.0</td>\n",
       "      <td>10</td>\n",
       "      <td>11.0</td>\n",
       "      <td>7</td>\n",
       "      <td>20.0</td>\n",
       "      <td>20</td>\n",
       "      <td>-8.0</td>\n",
       "    </tr>\n",
       "    <tr>\n",
       "      <th>2</th>\n",
       "      <td>22019</td>\n",
       "      <td>1610612744</td>\n",
       "      <td>GSW</td>\n",
       "      <td>Golden State Warriors</td>\n",
       "      <td>1521900039</td>\n",
       "      <td>2019-07-08</td>\n",
       "      <td>GSW @ LAL</td>\n",
       "      <td>W</td>\n",
       "      <td>200</td>\n",
       "      <td>88</td>\n",
       "      <td>...</td>\n",
       "      <td>0.621</td>\n",
       "      <td>8.0</td>\n",
       "      <td>29.0</td>\n",
       "      <td>37.0</td>\n",
       "      <td>21</td>\n",
       "      <td>10.0</td>\n",
       "      <td>4</td>\n",
       "      <td>13.0</td>\n",
       "      <td>22</td>\n",
       "      <td>8.0</td>\n",
       "    </tr>\n",
       "    <tr>\n",
       "      <th>3</th>\n",
       "      <td>22019</td>\n",
       "      <td>1610612744</td>\n",
       "      <td>GSW</td>\n",
       "      <td>Golden State Warriors</td>\n",
       "      <td>1521900020</td>\n",
       "      <td>2019-07-07</td>\n",
       "      <td>GSW vs. TOR</td>\n",
       "      <td>W</td>\n",
       "      <td>201</td>\n",
       "      <td>80</td>\n",
       "      <td>...</td>\n",
       "      <td>0.923</td>\n",
       "      <td>6.0</td>\n",
       "      <td>37.0</td>\n",
       "      <td>43.0</td>\n",
       "      <td>18</td>\n",
       "      <td>8.0</td>\n",
       "      <td>3</td>\n",
       "      <td>20.0</td>\n",
       "      <td>25</td>\n",
       "      <td>10.0</td>\n",
       "    </tr>\n",
       "    <tr>\n",
       "      <th>4</th>\n",
       "      <td>22019</td>\n",
       "      <td>1610612744</td>\n",
       "      <td>GSW</td>\n",
       "      <td>Golden State Warriors</td>\n",
       "      <td>1521900007</td>\n",
       "      <td>2019-07-05</td>\n",
       "      <td>GSW vs. CHA</td>\n",
       "      <td>L</td>\n",
       "      <td>200</td>\n",
       "      <td>85</td>\n",
       "      <td>...</td>\n",
       "      <td>0.889</td>\n",
       "      <td>8.0</td>\n",
       "      <td>28.0</td>\n",
       "      <td>36.0</td>\n",
       "      <td>19</td>\n",
       "      <td>9.0</td>\n",
       "      <td>3</td>\n",
       "      <td>13.0</td>\n",
       "      <td>15</td>\n",
       "      <td>-8.0</td>\n",
       "    </tr>\n",
       "  </tbody>\n",
       "</table>\n",
       "<p>5 rows × 28 columns</p>\n",
       "</div>"
      ],
      "text/plain": [
       "  SEASON_ID     TEAM_ID TEAM_ABBREVIATION              TEAM_NAME     GAME_ID  \\\n",
       "0     22019  1610612744               GSW  Golden State Warriors  1521900066   \n",
       "1     22019  1610612744               GSW  Golden State Warriors  1521900058   \n",
       "2     22019  1610612744               GSW  Golden State Warriors  1521900039   \n",
       "3     22019  1610612744               GSW  Golden State Warriors  1521900020   \n",
       "4     22019  1610612744               GSW  Golden State Warriors  1521900007   \n",
       "\n",
       "    GAME_DATE      MATCHUP WL  MIN  PTS  ...  FT_PCT  OREB  DREB   REB  AST  \\\n",
       "0  2019-07-12  GSW vs. LAL  L  200   87  ...   0.800  13.0  29.0  42.0   13   \n",
       "1  2019-07-10    GSW @ DEN  W  201   73  ...   0.867   7.0  27.0  34.0   10   \n",
       "2  2019-07-08    GSW @ LAL  W  200   88  ...   0.621   8.0  29.0  37.0   21   \n",
       "3  2019-07-07  GSW vs. TOR  W  201   80  ...   0.923   6.0  37.0  43.0   18   \n",
       "4  2019-07-05  GSW vs. CHA  L  200   85  ...   0.889   8.0  28.0  36.0   19   \n",
       "\n",
       "    STL  BLK   TOV  PF  PLUS_MINUS  \n",
       "0  10.0    3  11.0  21         3.2  \n",
       "1  11.0    7  20.0  20        -8.0  \n",
       "2  10.0    4  13.0  22         8.0  \n",
       "3   8.0    3  20.0  25        10.0  \n",
       "4   9.0    3  13.0  15        -8.0  \n",
       "\n",
       "[5 rows x 28 columns]"
      ]
     },
     "execution_count": 16,
     "metadata": {},
     "output_type": "execute_result"
    }
   ],
   "source": [
    "\n",
    "file_name = \"Golden_State.pkl\"\n",
    "games = pd.read_pickle(file_name)\n",
    "games.head()"
   ]
  },
  {
   "cell_type": "code",
   "execution_count": 17,
   "id": "8225499d-077a-404f-a163-4de921b629b2",
   "metadata": {},
   "outputs": [],
   "source": [
    "# creating two data frames one when warriors faced raptors at home and other for away games\n",
    "games_home=games[games['MATCHUP']=='GSW vs. TOR']\n",
    "games_away=games[games['MATCHUP']=='GSW @ TOR']"
   ]
  },
  {
   "cell_type": "code",
   "execution_count": 18,
   "id": "4d68289d-3c04-4391-b354-ad877d60d2e7",
   "metadata": {},
   "outputs": [
    {
     "data": {
      "text/plain": [
       "3.730769230769231"
      ]
     },
     "execution_count": 18,
     "metadata": {},
     "output_type": "execute_result"
    }
   ],
   "source": [
    "#calculating means for columns plus minus for dataframe home and away\n",
    "games_home['PLUS_MINUS'].mean()"
   ]
  },
  {
   "cell_type": "code",
   "execution_count": 19,
   "id": "0c50c6c6-5c55-4116-8984-41510c407686",
   "metadata": {},
   "outputs": [
    {
     "data": {
      "text/plain": [
       "-0.6071428571428571"
      ]
     },
     "execution_count": 19,
     "metadata": {},
     "output_type": "execute_result"
    }
   ],
   "source": [
    "games_away['PLUS_MINUS'].mean()"
   ]
  },
  {
   "cell_type": "code",
   "execution_count": 23,
   "id": "b5d2fd73-070b-4e12-be2e-3a5e86667f5f",
   "metadata": {},
   "outputs": [
    {
     "data": {
      "image/png": "[encoded data removed]",
      "text/plain": [
       "<Figure size 640x480 with 1 Axes>"
      ]
     },
     "metadata": {},
     "output_type": "display_data"
    }
   ],
   "source": [
    "# plotting plus minus column for both of our dataframes\n",
    "\n",
    "fig, ax = plt.subplots()\n",
    "\n",
    "games_away.plot(x='GAME_DATE',y='PLUS_MINUS', ax=ax)\n",
    "games_home.plot(x='GAME_DATE',y='PLUS_MINUS', ax=ax)\n",
    "ax.legend([\"away\", \"home\"])\n",
    "plt.show()\n",
    "\n",
    "#we can see the warrior played better at home"
   ]
  },
  {
   "cell_type": "code",
   "execution_count": 24,
   "id": "d96c0445-3518-4c20-a452-f9e9f6d2e46a",
   "metadata": {},
   "outputs": [
    {
     "data": {
      "text/plain": [
       "106.8076923076923"
      ]
     },
     "execution_count": 24,
     "metadata": {},
     "output_type": "execute_result"
    }
   ],
   "source": [
    "# now calculating the mean for column PTS for data frame games_home and games_away\n",
    "\n",
    "games_home['PTS'].mean()\n"
   ]
  },
  {
   "cell_type": "code",
   "execution_count": 25,
   "id": "72e22937-6ff8-4d84-8149-eb69fbc41711",
   "metadata": {},
   "outputs": [
    {
     "data": {
      "text/plain": [
       "102.96428571428571"
      ]
     },
     "execution_count": 25,
     "metadata": {},
     "output_type": "execute_result"
    }
   ],
   "source": [
    "games_away['PTS'].mean()"
   ]
  },
  {
   "cell_type": "code",
   "execution_count": 26,
   "id": "fda27763-f56c-40ac-9320-cc6a966d9bcd",
   "metadata": {},
   "outputs": [
    {
     "data": {
      "image/png": "[encoded data removed]",
      "text/plain": [
       "<Figure size 640x480 with 1 Axes>"
      ]
     },
     "metadata": {},
     "output_type": "display_data"
    }
   ],
   "source": [
    "# plotting PTS column for both dataframes\n",
    "fig, ax = plt.subplots()\n",
    "games_away.plot(x='GAME_DATE',y='PTS', ax=ax)\n",
    "games_home.plot(x='GAME_DATE',y='PTS', ax=ax)\n",
    "ax.legend([\"away\", \"home\"])\n",
    "plt.show()"
   ]
  },
  {
   "cell_type": "code",
   "execution_count": null,
   "id": "481c5a1c-430f-428d-b4bc-af9dfca187b7",
   "metadata": {},
   "outputs": [],
   "source": []
  }
 ],
 "metadata": {
  "kernelspec": {
   "display_name": "Python 3 (ipykernel)",
   "language": "python",
   "name": "python3"
  },
  "language_info": {
   "codemirror_mode": {
    "name": "ipython",
    "version": 3
   },
   "file_extension": ".py",
   "mimetype": "text/x-python",
   "name": "python",
   "nbconvert_exporter": "python",
   "pygments_lexer": "ipython3",
   "version": "3.11.5"
  }
 },
 "nbformat": 4,
 "nbformat_minor": 5
}
